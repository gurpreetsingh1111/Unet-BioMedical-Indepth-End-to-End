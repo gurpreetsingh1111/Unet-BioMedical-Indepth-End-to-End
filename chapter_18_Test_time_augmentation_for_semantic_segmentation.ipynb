{
  "nbformat": 4,
  "nbformat_minor": 0,
  "metadata": {
    "colab": {
      "name": "chapter_18_Test time augmentation for semantic segmentation.ipynb",
      "provenance": []
    },
    "kernelspec": {
      "name": "python3",
      "display_name": "Python 3"
    },
    "language_info": {
      "name": "python"
    }
  },
  "cells": [
    {
      "cell_type": "markdown",
      "source": [
        "##test_time_augmentation_for_semantic_segmentation.py"
      ],
      "metadata": {
        "id": "lXRNmWxTuECQ"
      }
    },
    {
      "cell_type": "code",
      "source": [
        "\"\"\"\n",
        "# TTA - Should be called prediction time augmentation\n",
        "#We can augment each input image, predict augmented images and average all predictions\n",
        "\"\"\"\n",
        "import os\n",
        "import cv2\n",
        "from PIL import Image\n",
        "import numpy as np\n",
        "from matplotlib import pyplot as plt\n",
        "import tensorflow as tf\n",
        "import random\n",
        "\n",
        "model = tf.keras.models.load_model(\"mitochondria_load_from_disk_focal_dice_50epochs.hdf5\", compile=False)\n",
        "\n",
        "\n",
        "image_directory = 'data2/test_images/test/'\n",
        "mask_directory = 'data2/test_masks/test/'\n",
        "\n",
        "\n",
        "SIZE = 256\n",
        "image_dataset = []  \n",
        "mask_dataset = []  \n",
        "\n",
        "images = os.listdir(image_directory)\n",
        "for i, image_name in enumerate(images):    #Remember enumerate method adds a counter and returns the enumerate object\n",
        "    if (image_name.split('.')[1] == 'tif'):\n",
        "        #print(image_directory+image_name)\n",
        "        image = cv2.imread(image_directory+image_name)\n",
        "        image = Image.fromarray(image)\n",
        "        image = image.resize((SIZE, SIZE))\n",
        "        image_dataset.append(np.array(image))\n",
        "\n",
        "#Iterate through all images in Uninfected folder, resize to 64 x 64\n",
        "#Then save into the same numpy array 'dataset' but with label 1\n",
        "\n",
        "masks = os.listdir(mask_directory)\n",
        "for i, image_name in enumerate(masks):\n",
        "    if (image_name.split('.')[1] == 'tif'):\n",
        "        image = cv2.imread(mask_directory+image_name, 0)\n",
        "        image = Image.fromarray(image)\n",
        "        image = image.resize((SIZE, SIZE))\n",
        "        mask_dataset.append(np.array(image))\n",
        "\n",
        "\n",
        "#\n",
        "image_dataset = np.array(image_dataset) / 255.\n",
        "\n",
        "#D not normalize masks, just rescale to 0 to 1.\n",
        "mask_dataset = (np.array(mask_dataset)) /255.\n",
        "\n",
        "\n",
        "#Demonstrate TTP on single image \n",
        "n = random.randint(0, mask_dataset.shape[0])\n",
        "temp_test_img = image_dataset[n,:,:,:]\n",
        "temp_test_img = image_dataset[n,:,:,:]\n",
        "temp_mask = mask_dataset[n,:,:]\n",
        "\n",
        "p0 = model.predict(np.expand_dims(temp_test_img, axis=0))[0][:, :, 0]\n",
        "\n",
        "p1 = model.predict(np.expand_dims(np.fliplr(temp_test_img), axis=0))[0][:, :, 0]\n",
        "p1 = np.fliplr(p1)\n",
        "\n",
        "p2 = model.predict(np.expand_dims(np.flipud(temp_test_img), axis=0))[0][:, :, 0]\n",
        "p2 = np.flipud(p2)\n",
        "\n",
        "p3 = model.predict(np.expand_dims(np.fliplr(np.flipud(temp_test_img)), axis=0))[0][:, :, 0]\n",
        "p3 = np.fliplr(np.flipud(p3))\n",
        "\n",
        "thresh = 0.3\n",
        "p = (((p0 + p1 + p2 + p3) / 4) > thresh).astype(np.uint8)\n",
        " \n",
        "plt.figure(figsize=(12, 12))\n",
        "plt.subplot(231)\n",
        "plt.title('Original mask')\n",
        "plt.imshow(temp_mask, cmap='gray')\n",
        "plt.subplot(232)\n",
        "plt.title('Prediction No Aug')\n",
        "plt.imshow(p0>thresh, cmap='gray')\n",
        "plt.subplot(233)\n",
        "plt.title('Prediction LR')\n",
        "plt.imshow(p1>thresh, cmap='gray')\n",
        "plt.subplot(234)\n",
        "plt.title('Prediction UD')\n",
        "plt.imshow(p2>thresh, cmap='gray')\n",
        "plt.subplot(235)\n",
        "plt.title('Prediction LR and UD')\n",
        "plt.imshow(p3>thresh, cmap='gray')\n",
        "plt.subplot(236)\n",
        "plt.title('Average Prediction')\n",
        "plt.imshow(p>thresh, cmap='gray')\n",
        "plt.show()\n",
        "\n",
        "\n",
        "\n",
        "#Now that we know the transformations are working, let us extend to all predictions\n",
        "predictions = []\n",
        "for image in image_dataset:\n",
        "    \n",
        "    pred_original = model.predict(np.expand_dims(image, axis=0))[0][:, :, 0]\n",
        "    \n",
        "    pred_lr = model.predict(np.expand_dims(np.fliplr(image), axis=0))[0][:, :, 0]\n",
        "    pred_lr = np.fliplr(pred_lr)\n",
        "    \n",
        "    pred_ud = model.predict(np.expand_dims(np.flipud(image), axis=0))[0][:, :, 0]\n",
        "    pred_ud = np.flipud(pred_ud)\n",
        "    \n",
        "    pred_lr_ud = model.predict(np.expand_dims(np.fliplr(np.flipud(image)), axis=0))[0][:, :, 0]\n",
        "    pred_lr_ud = np.fliplr(np.flipud(pred_lr_ud))\n",
        "    \n",
        "    preds = (pred_original + pred_lr + pred_ud + pred_lr_ud) / 4\n",
        "    \n",
        "    predictions.append(preds)\n",
        "\n",
        "\n",
        "predictions = np.array(predictions)\n",
        "\n",
        "threshold = 0.5\n",
        "predictions_th = predictions > threshold\n",
        "\n",
        "import random\n",
        "test_img_number = random.randint(0, mask_dataset.shape[0]-1)\n",
        "test_img = image_dataset[test_img_number]\n",
        "ground_truth=mask_dataset[test_img_number]\n",
        "#test_img_norm=test_img[:,:,0][:,:,None]\n",
        "test_img_input=np.expand_dims(test_img, 0)\n",
        "prediction = predictions_th[test_img_number]\n",
        "\n",
        "plt.figure(figsize=(16, 8))\n",
        "plt.subplot(231)\n",
        "plt.title('Testing Image')\n",
        "plt.imshow(test_img, cmap='gray')\n",
        "plt.subplot(232)\n",
        "plt.title('Testing Label')\n",
        "plt.imshow(ground_truth, cmap='gray')\n",
        "plt.subplot(233)\n",
        "plt.title('Prediction on test image')\n",
        "plt.imshow(prediction, cmap='gray')\n",
        "\n",
        "plt.show()"
      ],
      "metadata": {
        "id": "RfG9WqV7uEEq"
      },
      "execution_count": null,
      "outputs": []
    },
    {
      "cell_type": "code",
      "source": [
        ""
      ],
      "metadata": {
        "id": "ysEDExMauEIc"
      },
      "execution_count": null,
      "outputs": []
    },
    {
      "cell_type": "code",
      "source": [
        ""
      ],
      "metadata": {
        "id": "zLMw166gqxHP"
      },
      "execution_count": null,
      "outputs": []
    },
    {
      "cell_type": "code",
      "source": [
        ""
      ],
      "metadata": {
        "id": "T1Yr76TaqxKN"
      },
      "execution_count": null,
      "outputs": []
    },
    {
      "cell_type": "code",
      "source": [
        ""
      ],
      "metadata": {
        "id": "vFD056AgqxN0"
      },
      "execution_count": null,
      "outputs": []
    },
    {
      "cell_type": "code",
      "source": [
        ""
      ],
      "metadata": {
        "id": "uhNIfox2qxQR"
      },
      "execution_count": null,
      "outputs": []
    },
    {
      "cell_type": "code",
      "source": [
        ""
      ],
      "metadata": {
        "id": "fK3D7zCbqxTN"
      },
      "execution_count": null,
      "outputs": []
    },
    {
      "cell_type": "code",
      "source": [
        ""
      ],
      "metadata": {
        "id": "DgwQ5BOPqxV1"
      },
      "execution_count": null,
      "outputs": []
    },
    {
      "cell_type": "code",
      "source": [
        ""
      ],
      "metadata": {
        "id": "UR8sPTSLqxYX"
      },
      "execution_count": null,
      "outputs": []
    },
    {
      "cell_type": "code",
      "source": [
        ""
      ],
      "metadata": {
        "id": "wbM2_qI1qxbB"
      },
      "execution_count": null,
      "outputs": []
    },
    {
      "cell_type": "code",
      "source": [
        ""
      ],
      "metadata": {
        "id": "t72L9TfwqxfC"
      },
      "execution_count": null,
      "outputs": []
    },
    {
      "cell_type": "code",
      "source": [
        ""
      ],
      "metadata": {
        "id": "tE7fnxcTqxhd"
      },
      "execution_count": null,
      "outputs": []
    },
    {
      "cell_type": "code",
      "source": [
        ""
      ],
      "metadata": {
        "id": "nbW-hJHXqxlz"
      },
      "execution_count": null,
      "outputs": []
    },
    {
      "cell_type": "code",
      "source": [
        ""
      ],
      "metadata": {
        "id": "eNAh5b4CqxoI"
      },
      "execution_count": null,
      "outputs": []
    },
    {
      "cell_type": "code",
      "source": [
        ""
      ],
      "metadata": {
        "id": "l1xwijo7qxrk"
      },
      "execution_count": null,
      "outputs": []
    },
    {
      "cell_type": "code",
      "source": [
        ""
      ],
      "metadata": {
        "id": "JfUWa5m3qx6J"
      },
      "execution_count": null,
      "outputs": []
    },
    {
      "cell_type": "code",
      "source": [
        ""
      ],
      "metadata": {
        "id": "7oMS8ORIqx9h"
      },
      "execution_count": null,
      "outputs": []
    },
    {
      "cell_type": "code",
      "source": [
        ""
      ],
      "metadata": {
        "id": "D0UrTx9zx6Qd"
      },
      "execution_count": null,
      "outputs": []
    },
    {
      "cell_type": "code",
      "source": [
        ""
      ],
      "metadata": {
        "id": "ZcIuKauRx6Tw"
      },
      "execution_count": null,
      "outputs": []
    }
  ]
}